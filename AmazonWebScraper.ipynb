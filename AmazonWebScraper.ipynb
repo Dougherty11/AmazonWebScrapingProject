{
 "cells": [
  {
   "cell_type": "code",
   "execution_count": null,
   "id": "a42c5afa-ce02-415c-9fa0-6bf00e6887d4",
   "metadata": {},
   "outputs": [],
   "source": [
    "# Import Libraries\n",
    "\n",
    "from bs4 import BeautifulSoup\n",
    "import requests\n",
    "import time\n",
    "import datetime\n",
    "import smtplib\n",
    "import csv\n",
    "import datetime\n",
    "import pandas as pd"
   ]
  },
  {
   "cell_type": "code",
   "execution_count": null,
   "id": "8e3d938f-5cbb-45f2-88ca-6d60dfdf273a",
   "metadata": {},
   "outputs": [],
   "source": [
    "# Connection to Website\n",
    "\n",
    "URL = 'https://www.amazon.com/Star-Wars-Blu-ray-Mark-Hamill/dp/B083XQ6SW2?crid=1192AYG1NRFDQ&dib=eyJ2IjoiMSJ9.bSUv4FU9MOY5a8oILvIB-h9o4ug0li7qmDQ8ihr12g6sxgOHMm_NAkgB1w0nrRsy9WQpTXkszOUEOid-ZkguqDzZClIUiAGuzFIBLlD_B3fOqMoHvW_HFklj-4tmL2mbAnqAuMwjELH1REjaW7hRPx3RvpAh50x3X9G3gtRkKypDZ5ZG88n7lFBUWIhajhqHupE4AffRTxXIBJ19JP5jURLbgqldVipuBWIhUnBcnP0.X6ur-Zw12fmMSjv0tDO4nUs59bDVYbV0UKydnR1zH18&dib_tag=se&keywords=star+wars&qid=1753907262&refinements=p_n_condition-type%3A6461716011&rnid=2941120011&s=movies-tv&sprefix=star+wars%2Caps%2C88&sr=1-1'\n",
    "\n",
    "headers = {\"User-Agent\": \"Mozilla/5.0 (Windows NT 10.0; Win64; x64) AppleWebKit/537.36 (KHTML, like Gecko) Chrome/138.0.0.0 Safari/537.36 Edg/138.0.0.0\", \"Accept-Language\": \"en-US,en;q=0.9\"}\n",
    "\n",
    "page = requests.get(URL, headers=headers)\n",
    "\n",
    "soup1 = BeautifulSoup(page.content, 'html.parser')\n",
    "\n",
    "soup2 = BeautifulSoup(soup1.prettify(), 'html.parser')\n",
    "\n",
    "title = soup2.find(id='productTitle').get_text()\n",
    "\n",
    "price = soup2.find('span', class_='aok-offscreen').get_text(strip=True)\n",
    "\n",
    "print(title)\n",
    "print(price)"
   ]
  },
  {
   "cell_type": "code",
   "execution_count": null,
   "id": "7e79b330-22a0-4124-a183-7a80cbd3f351",
   "metadata": {},
   "outputs": [],
   "source": [
    "title = title.strip()[0:]\n",
    "price = price.strip()[1:6]\n",
    "\n",
    "print(title)\n",
    "print(price)"
   ]
  },
  {
   "cell_type": "code",
   "execution_count": null,
   "id": "6ed362a8-38eb-45ea-bef8-a0f9e5eec912",
   "metadata": {},
   "outputs": [],
   "source": [
    "today = datetime.date.today()\n",
    "print(today)"
   ]
  },
  {
   "cell_type": "code",
   "execution_count": null,
   "id": "92665acd-85f5-4ee3-8fb6-382f718cface",
   "metadata": {},
   "outputs": [],
   "source": [
    "header = ['Title', 'Price', 'Date']\n",
    "data = [title, price, today]\n",
    "\n",
    "#with open('AmazonWebScraperData.csv', 'w', newline='', encoding='UTF8') as f:\n",
    "    #writer = csv.writer(f)\n",
    "    #writer.writerow(header)\n",
    "    #writer.writerow(data)"
   ]
  },
  {
   "cell_type": "code",
   "execution_count": null,
   "id": "b2588027-aed9-47c9-a761-a648b1a87cd9",
   "metadata": {},
   "outputs": [],
   "source": [
    "df = pd.read_csv(r'C:\\Users\\kcd11of14\\Documents\\XI_Database\\Projects\\AmazonWebScraper\\AmazonWebScraperData.csv')\n",
    "\n",
    "print(df)"
   ]
  },
  {
   "cell_type": "code",
   "execution_count": null,
   "id": "132a37c5-856d-4764-b1a1-83ec95d8f99e",
   "metadata": {},
   "outputs": [],
   "source": [
    "# Appending Data to CSV\n",
    "\n",
    "with open('AmazonWebScraperData.csv', 'a+', newline='', encoding='UTF8') as f:\n",
    "    writer = csv.writer(f)\n",
    "    writer.writerow(data)"
   ]
  },
  {
   "cell_type": "code",
   "execution_count": null,
   "id": "5748ff08-e142-498f-a0d4-400dbb87b692",
   "metadata": {},
   "outputs": [],
   "source": [
    "def price_change():\n",
    "    URL = 'https://www.amazon.com/Star-Wars-Blu-ray-Mark-Hamill/dp/B083XQ6SW2?crid=1192AYG1NRFDQ&dib=eyJ2IjoiMSJ9.bSUv4FU9MOY5a8oILvIB-h9o4ug0li7qmDQ8ihr12g6sxgOHMm_NAkgB1w0nrRsy9WQpTXkszOUEOid-ZkguqDzZClIUiAGuzFIBLlD_B3fOqMoHvW_HFklj-4tmL2mbAnqAuMwjELH1REjaW7hRPx3RvpAh50x3X9G3gtRkKypDZ5ZG88n7lFBUWIhajhqHupE4AffRTxXIBJ19JP5jURLbgqldVipuBWIhUnBcnP0.X6ur-Zw12fmMSjv0tDO4nUs59bDVYbV0UKydnR1zH18&dib_tag=se&keywords=star+wars&qid=1753907262&refinements=p_n_condition-type%3A6461716011&rnid=2941120011&s=movies-tv&sprefix=star+wars%2Caps%2C88&sr=1-1'\n",
    "\n",
    "    headers = {\"User-Agent\": \"Mozilla/5.0 (Windows NT 10.0; Win64; x64) AppleWebKit/537.36 (KHTML, like Gecko) Chrome/138.0.0.0 Safari/537.36 Edg/138.0.0.0\", \"Accept-Language\": \"en-US,en;q=0.9\"}\n",
    "\n",
    "    page = requests.get(URL, headers=headers)\n",
    "\n",
    "    soup1 = BeautifulSoup(page.content, 'html.parser')\n",
    "\n",
    "    soup2 = BeautifulSoup(soup1.prettify(), 'html.parser')\n",
    "\n",
    "    title = soup2.find(id='productTitle').get_text()\n",
    "\n",
    "    price = soup2.find('span', class_='aok-offscreen').get_text(strip=True)\n",
    "\n",
    "    title = title.strip()[0:]\n",
    "    price = price.strip()[1:6]\n",
    "\n",
    "    today = datetime.date.today()\n",
    "\n",
    "    header = ['Title', 'Price', 'Date']\n",
    "    data = [title, price, today]\n",
    "\n",
    "    with open('AmazonWebScraperData.csv', 'a+', newline='', encoding='UTF8') as f:\n",
    "        writer = csv.writer(f)\n",
    "        writer.writerow(data)\n",
    "\n",
    "    #if(price < (price/2):\n",
    "        #send_mail()"
   ]
  },
  {
   "cell_type": "code",
   "execution_count": null,
   "id": "f22f0782-8175-4c65-96f5-e7f79e0041d3",
   "metadata": {},
   "outputs": [],
   "source": [
    "while(True):\n",
    "    price_change()\n",
    "    time.sleep(3600)"
   ]
  },
  {
   "cell_type": "code",
   "execution_count": null,
   "id": "104734ec-0293-4479-8f8e-902e3956afd6",
   "metadata": {},
   "outputs": [],
   "source": [
    "df = pd.read_csv(r'C:\\Users\\kcd11of14\\Documents\\XI_Database\\Projects\\AmazonWebScraper\\AmazonWebScraperData.csv')\n",
    "\n",
    "print(df)"
   ]
  },
  {
   "cell_type": "code",
   "execution_count": null,
   "id": "66579be6-0762-4b0f-9039-5fe3981d0cff",
   "metadata": {},
   "outputs": [],
   "source": [
    "#def send_mail():\n",
    "        #server = smtplib.SMTP_SSL('smtp.gmail.com',465)\n",
    "        #server.ehlo()\n",
    "        #server.starttls()\n",
    "        #server.ehlo()\n",
    "        #server.login('email_address','password')\n",
    "\n",
    "        #subject = \"Price Decrease\"\n",
    "        #body - \"...\"\n",
    "        #msg = \"...\"\n",
    "\n",
    "        #server.sendmail('email_address',msg)\n"
   ]
  }
 ],
 "metadata": {
  "kernelspec": {
   "display_name": "Python [conda env:base] *",
   "language": "python",
   "name": "conda-base-py"
  },
  "language_info": {
   "codemirror_mode": {
    "name": "ipython",
    "version": 3
   },
   "file_extension": ".py",
   "mimetype": "text/x-python",
   "name": "python",
   "nbconvert_exporter": "python",
   "pygments_lexer": "ipython3",
   "version": "3.13.5"
  }
 },
 "nbformat": 4,
 "nbformat_minor": 5
}
